{
 "cells": [
  {
   "cell_type": "markdown",
   "id": "4f20c0e3",
   "metadata": {},
   "source": [
    "\n",
    "You need to run those `taskkill` commands in a **Windows PowerShell** or **Command Prompt (CMD)** window.\n",
    "\n",
    "---\n",
    "\n",
    "### 🔹 Steps:\n",
    "\n",
    "1. **Close VS Code completely** first.\n",
    "\n",
    "2. Open either:\n",
    "\n",
    "   * **PowerShell** → Press `Win + X`, choose **Windows PowerShell** (or **Terminal**).\n",
    "   * **Command Prompt (CMD)** → Press `Win + R`, type `cmd`, hit Enter.\n",
    "\n",
    "3. In that window, run these commands one by one:\n",
    "\n",
    "   ```powershell\n",
    "   taskkill /F /IM python.exe /T\n",
    "   taskkill /F /IM pythonw.exe /T\n",
    "   ```\n",
    "\n",
    "   * If Python is running in the background, it will kill the process.\n",
    "   * If it’s not running, you’ll see a message like *\"No instance found\"* → that’s fine.\n",
    "\n",
    "4. Now go back to your project folder (`D:\\Vfile\\coding\\Python\\`) and delete the `venv` folder:\n",
    "\n",
    "   ```powershell\n",
    "   rmdir venv -Recurse -Force\n",
    "   ```\n",
    "\n",
    "---\n",
    "\n",
    "👉 After that, you can safely recreate the environment.\n",
    "\n",
    "Do you want me to write you the **exact full sequence of commands** to copy-paste (from killing Python → deleting `venv` → making a new one → installing numpy), so you don’t need to type step by step?\n",
    "\n",
    "\n",
    "Those errors just mean there were **no Python processes running**, so nothing was locking your `.pyd` / `.exe` files anymore. 🎉\n",
    "\n",
    "---\n",
    "\n",
    "### Next Step: Delete the old `venv`\n",
    "\n",
    "Now go back to your project folder and remove the broken venv:\n",
    "\n",
    "```powershell\n",
    "cd D:\\Vfile\\coding\\Python\n",
    "rmdir venv -Recurse -Force\n",
    "```\n",
    "\n",
    "(if it still complains, you can also delete it manually via File Explorer).\n",
    "\n",
    "---\n",
    "\n",
    "### Then: Recreate a fresh environment\n",
    "\n",
    "Once the `venv` folder is gone, create a new one:\n",
    "\n",
    "```powershell\n",
    "python -m venv venv\n",
    "```\n",
    "\n",
    "Activate it:\n",
    "\n",
    "```powershell\n",
    ".\\venv\\Scripts\\Activate.ps1\n",
    "```\n",
    "\n",
    "And install numpy + jupyter:\n",
    "\n",
    "```powershell\n",
    "pip install numpy jupyter\n",
    "```\n",
    "\n",
    "pip install --upgrade pip\n",
    "pip install jupyter ipykernel numpy pandas matplotlib\n",
    "\n",
    "\n",
    "---\n",
    "\n",
    "👉 Do you want me to bundle all of this into a **one-shot script** you can paste into PowerShell, so it cleans old `venv`, recreates it, activates it, and installs everything automatically?\n"
   ]
  },
  {
   "cell_type": "code",
   "execution_count": 31,
   "id": "3a4ad0a3",
   "metadata": {},
   "outputs": [],
   "source": [
    "import numpy as np"
   ]
  },
  {
   "cell_type": "code",
   "execution_count": 32,
   "id": "6596c776",
   "metadata": {},
   "outputs": [
    {
     "data": {
      "text/plain": [
       "array([[1, 2],\n",
       "       [4, 6]])"
      ]
     },
     "execution_count": 32,
     "metadata": {},
     "output_type": "execute_result"
    }
   ],
   "source": [
    "arr = np.array([[1, 2], [4, 6]])\n",
    "arr"
   ]
  },
  {
   "cell_type": "code",
   "execution_count": 33,
   "id": "14848836",
   "metadata": {},
   "outputs": [
    {
     "data": {
      "text/plain": [
       "array([1, 2])"
      ]
     },
     "execution_count": 33,
     "metadata": {},
     "output_type": "execute_result"
    }
   ],
   "source": [
    "arr[0]"
   ]
  },
  {
   "cell_type": "code",
   "execution_count": 34,
   "id": "56d8d172",
   "metadata": {},
   "outputs": [
    {
     "data": {
      "text/plain": [
       "array([4, 6])"
      ]
     },
     "execution_count": 34,
     "metadata": {},
     "output_type": "execute_result"
    }
   ],
   "source": [
    "arr[1]"
   ]
  },
  {
   "cell_type": "code",
   "execution_count": 35,
   "id": "45ec86cb",
   "metadata": {},
   "outputs": [
    {
     "data": {
      "text/plain": [
       "np.int64(4)"
      ]
     },
     "execution_count": 35,
     "metadata": {},
     "output_type": "execute_result"
    }
   ],
   "source": [
    "arr[1][0]"
   ]
  },
  {
   "cell_type": "code",
   "execution_count": 36,
   "id": "47f392ae",
   "metadata": {},
   "outputs": [
    {
     "data": {
      "text/plain": [
       "np.int64(2)"
      ]
     },
     "execution_count": 36,
     "metadata": {},
     "output_type": "execute_result"
    }
   ],
   "source": [
    "arr[0][1]"
   ]
  },
  {
   "cell_type": "markdown",
   "id": "a4556945",
   "metadata": {},
   "source": [
    "array----asarray---[anyarray in this it first observe is data present iny type of an array if it not then it conver]"
   ]
  },
  {
   "cell_type": "markdown",
   "id": "ae8e9c1c",
   "metadata": {},
   "source": []
  },
  {
   "cell_type": "markdown",
   "id": "e976f544",
   "metadata": {},
   "source": [
    "ndarray is parent class as matrix is subclass"
   ]
  },
  {
   "cell_type": "code",
   "execution_count": 37,
   "id": "c5205aeb",
   "metadata": {},
   "outputs": [
    {
     "data": {
      "text/plain": [
       "False"
      ]
     },
     "execution_count": 37,
     "metadata": {},
     "output_type": "execute_result"
    }
   ],
   "source": [
    "issubclass(np.ndarray,np.matrix)"
   ]
  },
  {
   "cell_type": "code",
   "execution_count": 38,
   "id": "f19e7b4a",
   "metadata": {},
   "outputs": [
    {
     "data": {
      "text/plain": [
       "array([[1, 2],\n",
       "       [4, 6]])"
      ]
     },
     "execution_count": 38,
     "metadata": {},
     "output_type": "execute_result"
    }
   ],
   "source": [
    "arr"
   ]
  },
  {
   "cell_type": "code",
   "execution_count": 39,
   "id": "f9d0efcf",
   "metadata": {},
   "outputs": [],
   "source": [
    "a=arr"
   ]
  },
  {
   "cell_type": "code",
   "execution_count": 40,
   "id": "f782c3dd",
   "metadata": {},
   "outputs": [],
   "source": [
    "b= np.copy(arr)"
   ]
  },
  {
   "cell_type": "code",
   "execution_count": 41,
   "id": "ba58ea38",
   "metadata": {},
   "outputs": [],
   "source": [
    "arr[0][0]=45"
   ]
  },
  {
   "cell_type": "code",
   "execution_count": 42,
   "id": "73b27b23",
   "metadata": {},
   "outputs": [
    {
     "data": {
      "text/plain": [
       "array([[45,  2],\n",
       "       [ 4,  6]])"
      ]
     },
     "execution_count": 42,
     "metadata": {},
     "output_type": "execute_result"
    }
   ],
   "source": [
    "a"
   ]
  },
  {
   "cell_type": "code",
   "execution_count": 43,
   "id": "cbb18f51",
   "metadata": {},
   "outputs": [
    {
     "data": {
      "text/plain": [
       "array([[1, 2],\n",
       "       [4, 6]])"
      ]
     },
     "execution_count": 43,
     "metadata": {},
     "output_type": "execute_result"
    }
   ],
   "source": [
    "b"
   ]
  },
  {
   "cell_type": "markdown",
   "id": "622f6ea9",
   "metadata": {},
   "source": [
    "arrays are mutabel"
   ]
  },
  {
   "cell_type": "code",
   "execution_count": 44,
   "id": "527b4dbc",
   "metadata": {},
   "outputs": [
    {
     "data": {
      "text/plain": [
       "array([4, 6])"
      ]
     },
     "execution_count": 44,
     "metadata": {},
     "output_type": "execute_result"
    }
   ],
   "source": [
    "arr[-1]"
   ]
  },
  {
   "cell_type": "code",
   "execution_count": 45,
   "id": "a283f56a",
   "metadata": {},
   "outputs": [
    {
     "data": {
      "text/plain": [
       "np.int64(2)"
      ]
     },
     "execution_count": 45,
     "metadata": {},
     "output_type": "execute_result"
    }
   ],
   "source": [
    "arr[-0][-1]"
   ]
  },
  {
   "cell_type": "code",
   "execution_count": 46,
   "id": "b71ae8a0",
   "metadata": {},
   "outputs": [
    {
     "data": {
      "text/plain": [
       "np.int64(6)"
      ]
     },
     "execution_count": 46,
     "metadata": {},
     "output_type": "execute_result"
    }
   ],
   "source": [
    "arr[-1][-1]"
   ]
  },
  {
   "cell_type": "code",
   "execution_count": 47,
   "id": "06580722",
   "metadata": {},
   "outputs": [
    {
     "name": "stdout",
     "output_type": "stream",
     "text": [
      "[45  2]\n",
      "[4 6]\n"
     ]
    }
   ],
   "source": [
    "for i in arr:\n",
    "  print(i)"
   ]
  },
  {
   "cell_type": "code",
   "execution_count": 48,
   "id": "4a3d148f",
   "metadata": {},
   "outputs": [
    {
     "name": "stdout",
     "output_type": "stream",
     "text": [
      "[1 2]\n",
      "[4 6]\n"
     ]
    }
   ],
   "source": [
    "for i in b:\n",
    "  print(i)"
   ]
  },
  {
   "cell_type": "markdown",
   "id": "15af7f09",
   "metadata": {},
   "source": [
    "fromfunction(lamda i,j:i==j,(4,4))---- it create the array using  parameter "
   ]
  },
  {
   "cell_type": "code",
   "execution_count": 49,
   "id": "525bdfdf",
   "metadata": {},
   "outputs": [
    {
     "data": {
      "text/plain": [
       "array([[ True, False, False, False],\n",
       "       [False,  True, False, False],\n",
       "       [False, False,  True, False],\n",
       "       [False, False, False,  True]])"
      ]
     },
     "execution_count": 49,
     "metadata": {},
     "output_type": "execute_result"
    }
   ],
   "source": [
    "np.fromfunction(lambda i,j:i==j,(4,4))"
   ]
  },
  {
   "cell_type": "code",
   "execution_count": 50,
   "id": "9ba3203a",
   "metadata": {},
   "outputs": [
    {
     "data": {
      "text/plain": [
       "array([[0., 0., 0., 0.],\n",
       "       [0., 1., 2., 3.],\n",
       "       [0., 2., 4., 6.],\n",
       "       [0., 3., 6., 9.]])"
      ]
     },
     "execution_count": 50,
     "metadata": {},
     "output_type": "execute_result"
    }
   ],
   "source": [
    "np.fromfunction(lambda i,j:i*j,(4,4))"
   ]
  },
  {
   "cell_type": "markdown",
   "id": "9e2c1fcb",
   "metadata": {},
   "source": [
    "List comprehension in Python offers a concise and efficient way to create new lists based on existing iterables (like lists, tuples, strings, or ranges). It provides a more compact and often more readable alternative to traditional for loops for list creation and manipulation."
   ]
  },
  {
   "cell_type": "code",
   "execution_count": 51,
   "id": "4fc704ad",
   "metadata": {},
   "outputs": [
    {
     "data": {
      "text/plain": [
       "[0, 1, 4, 9, 16]"
      ]
     },
     "execution_count": 51,
     "metadata": {},
     "output_type": "execute_result"
    }
   ],
   "source": [
    "#Creating a list of squares.\n",
    "squares = [x**2 for x in range(5)]\n",
    "squares\n"
   ]
  },
  {
   "cell_type": "code",
   "execution_count": 52,
   "id": "35a5d5e9",
   "metadata": {},
   "outputs": [
    {
     "data": {
      "text/plain": [
       "[0, 1, 2, 3, 4, 5, 12, 14, 16, 18]"
      ]
     },
     "execution_count": 52,
     "metadata": {},
     "output_type": "execute_result"
    }
   ],
   "source": [
    "modified_list = [x * 2 if x > 5 else x for x in range(10)]\n",
    "modified_list"
   ]
  },
  {
   "cell_type": "markdown",
   "id": "f1ca3f8e",
   "metadata": {},
   "source": [
    "The range() function is a built-in Python function that returns a range object. This object represents an immutable, lazy sequence of numbers that is used for iterating a specific number of times in for loops. "
   ]
  },
  {
   "cell_type": "code",
   "execution_count": 53,
   "id": "4e39ea01",
   "metadata": {},
   "outputs": [
    {
     "data": {
      "text/plain": [
       "[]"
      ]
     },
     "execution_count": 53,
     "metadata": {},
     "output_type": "execute_result"
    }
   ],
   "source": [
    "mod = [] \n",
    "for x in range(10):\n",
    "  if(x>5):\n",
    "    x*2\n",
    "  else:\n",
    "    x\n",
    "mod"
   ]
  },
  {
   "cell_type": "code",
   "execution_count": 54,
   "id": "0c30f7ca",
   "metadata": {},
   "outputs": [
    {
     "data": {
      "text/plain": [
       "[0, 1, 2, 3, 4, 5, 12, 14, 16, 18]"
      ]
     },
     "execution_count": 54,
     "metadata": {},
     "output_type": "execute_result"
    }
   ],
   "source": [
    "mod = [] \n",
    "for x in range(10):\n",
    "  if(x>5):\n",
    "    mod.append(x*2)\n",
    "  else:\n",
    "    mod.append(x)\n",
    "mod"
   ]
  },
  {
   "cell_type": "code",
   "execution_count": 55,
   "id": "99f08ab9",
   "metadata": {},
   "outputs": [
    {
     "data": {
      "text/plain": [
       "array([0, 1, 2, 3, 4])"
      ]
     },
     "execution_count": 55,
     "metadata": {},
     "output_type": "execute_result"
    }
   ],
   "source": [
    "np.fromiter(range(5),dtype=int)"
   ]
  },
  {
   "cell_type": "code",
   "execution_count": 56,
   "id": "a7aead63",
   "metadata": {},
   "outputs": [
    {
     "data": {
      "text/plain": [
       "array([[0., 1., 2., 3.],\n",
       "       [1., 2., 3., 4.],\n",
       "       [2., 3., 4., 5.],\n",
       "       [3., 4., 5., 6.]])"
      ]
     },
     "execution_count": 56,
     "metadata": {},
     "output_type": "execute_result"
    }
   ],
   "source": [
    "np.fromfunction(lambda i,j:i+j,(4,4))"
   ]
  },
  {
   "cell_type": "markdown",
   "id": "4bd196fc",
   "metadata": {},
   "source": [
    "np.from is the prefix for a family of functions that are used to create arrays from various data sources. These functions allow you to construct NumPy arrays from iterables, buffers, and other data structures. \n",
    "from array creation functions\n",
    "Here are some of the most common np.from functions:\n",
    "np.fromiter()\n",
    "Creates a new one-dimensional array from an iterable object, like a list, tuple, or generator. The dtype must be specified. "
   ]
  },
  {
   "cell_type": "code",
   "execution_count": 57,
   "id": "d1ee91ae",
   "metadata": {},
   "outputs": [
    {
     "name": "stdout",
     "output_type": "stream",
     "text": [
      "[ 0.  1.  4.  9. 16.]\n"
     ]
    }
   ],
   "source": [
    "iterable = (x*x for x in range(5))\n",
    "arr = np.fromiter(iterable, dtype=float)\n",
    "print(arr)"
   ]
  },
  {
   "cell_type": "markdown",
   "id": "ca80626d",
   "metadata": {},
   "source": [
    "np.frombuffer()\n",
    "Interprets a buffer as a one-dimensional array. This is useful for working with binary data, such as a bytes object. "
   ]
  },
  {
   "cell_type": "code",
   "execution_count": 58,
   "id": "b0e28649",
   "metadata": {},
   "outputs": [
    {
     "data": {
      "text/plain": [
       "array([1, 2, 3, 4, 5])"
      ]
     },
     "execution_count": 58,
     "metadata": {},
     "output_type": "execute_result"
    }
   ],
   "source": [
    "arr1 = np.array([1,2,3,4,5])\n",
    "arr1"
   ]
  },
  {
   "cell_type": "markdown",
   "id": "0c0b4a07",
   "metadata": {},
   "source": [
    "24-08-2025"
   ]
  },
  {
   "cell_type": "code",
   "execution_count": 59,
   "id": "ed6a4036",
   "metadata": {},
   "outputs": [
    {
     "name": "stdout",
     "output_type": "stream",
     "text": [
      "[[1 2 3]\n",
      " [4 5 6]]\n",
      "[[1 2 3]\n",
      " [4 5 6]]\n"
     ]
    }
   ],
   "source": [
    "arr2 = np.array([(1,2,3),(4,5,6)])\n",
    "arr3 = np.array([[1,2,3],[4,5,6]])\n",
    "print(arr2)\n",
    "print(arr3)"
   ]
  },
  {
   "cell_type": "code",
   "execution_count": 65,
   "id": "79836079",
   "metadata": {},
   "outputs": [
    {
     "name": "stdout",
     "output_type": "stream",
     "text": [
      "[1 2 3]\n",
      "[4 5 6]\n"
     ]
    }
   ],
   "source": [
    "print(arr2[0])\n",
    "print(arr2[1])"
   ]
  },
  {
   "cell_type": "code",
   "execution_count": null,
   "id": "8431aa0a",
   "metadata": {},
   "outputs": [
    {
     "name": "stdout",
     "output_type": "stream",
     "text": [
      "3\n",
      "5\n"
     ]
    }
   ],
   "source": [
    "print(arr2[0][2])\n",
    "print(arr2[1,1])"
   ]
  },
  {
   "cell_type": "code",
   "execution_count": null,
   "id": "b509c3b1",
   "metadata": {},
   "outputs": [
    {
     "name": "stdout",
     "output_type": "stream",
     "text": [
      "<class 'numpy.ndarray'>\n"
     ]
    },
    {
     "ename": "NameError",
     "evalue": "name 'dtype' is not defined",
     "output_type": "error",
     "traceback": [
      "\u001b[31m---------------------------------------------------------------------------\u001b[39m",
      "\u001b[31mNameError\u001b[39m                                 Traceback (most recent call last)",
      "\u001b[36mCell\u001b[39m\u001b[36m \u001b[39m\u001b[32mIn[76]\u001b[39m\u001b[32m, line 2\u001b[39m\n\u001b[32m      1\u001b[39m \u001b[38;5;28mprint\u001b[39m(\u001b[38;5;28mtype\u001b[39m(arr2))\n\u001b[32m----> \u001b[39m\u001b[32m2\u001b[39m \u001b[38;5;28mprint\u001b[39m(\u001b[43mdtype\u001b[49m(arr2))\n",
      "\u001b[31mNameError\u001b[39m: name 'dtype' is not defined"
     ]
    }
   ],
   "source": [
    "print(type(arr2))"
   ]
  },
  {
   "cell_type": "code",
   "execution_count": 68,
   "id": "30bd5ee8",
   "metadata": {},
   "outputs": [
    {
     "data": {
      "text/plain": [
       "array([4, 5, 6])"
      ]
     },
     "execution_count": 68,
     "metadata": {},
     "output_type": "execute_result"
    }
   ],
   "source": [
    "arr3[1]"
   ]
  },
  {
   "cell_type": "code",
   "execution_count": 69,
   "id": "2c58e637",
   "metadata": {},
   "outputs": [
    {
     "data": {
      "text/plain": [
       "np.int64(3)"
      ]
     },
     "execution_count": 69,
     "metadata": {},
     "output_type": "execute_result"
    }
   ],
   "source": [
    "arr3[0][2]"
   ]
  },
  {
   "cell_type": "code",
   "execution_count": 71,
   "id": "77ff0a07",
   "metadata": {},
   "outputs": [
    {
     "data": {
      "text/plain": [
       "np.int64(3)"
      ]
     },
     "execution_count": 71,
     "metadata": {},
     "output_type": "execute_result"
    }
   ],
   "source": [
    "arr3[0,2]"
   ]
  },
  {
   "cell_type": "code",
   "execution_count": 77,
   "id": "c05e7241",
   "metadata": {},
   "outputs": [
    {
     "data": {
      "text/plain": [
       "2"
      ]
     },
     "execution_count": 77,
     "metadata": {},
     "output_type": "execute_result"
    }
   ],
   "source": [
    "arr2.ndim"
   ]
  },
  {
   "cell_type": "code",
   "execution_count": 78,
   "id": "03f58fcb",
   "metadata": {},
   "outputs": [
    {
     "data": {
      "text/plain": [
       "2"
      ]
     },
     "execution_count": 78,
     "metadata": {},
     "output_type": "execute_result"
    }
   ],
   "source": [
    "arr3.ndim"
   ]
  },
  {
   "cell_type": "code",
   "execution_count": null,
   "id": "44956532",
   "metadata": {},
   "outputs": [
    {
     "data": {
      "text/plain": [
       "array([[1, 2, 3],\n",
       "       [4, 5, 6]])"
      ]
     },
     "execution_count": 81,
     "metadata": {},
     "output_type": "execute_result"
    }
   ],
   "source": [
    "ceil(arr2)"
   ]
  },
  {
   "cell_type": "code",
   "execution_count": 85,
   "id": "e19be841",
   "metadata": {},
   "outputs": [
    {
     "name": "stdout",
     "output_type": "stream",
     "text": [
      "[[1 2 3]\n",
      " [4 5 6]]\n"
     ]
    }
   ],
   "source": [
    "import numpy as np\n",
    "result = np.ceil(arr3)\n",
    "print(result)"
   ]
  },
  {
   "cell_type": "code",
   "execution_count": null,
   "id": "1e9738fc",
   "metadata": {},
   "outputs": [],
   "source": []
  }
 ],
 "metadata": {
  "kernelspec": {
   "display_name": "venv",
   "language": "python",
   "name": "python3"
  },
  "language_info": {
   "codemirror_mode": {
    "name": "ipython",
    "version": 3
   },
   "file_extension": ".py",
   "mimetype": "text/x-python",
   "name": "python",
   "nbconvert_exporter": "python",
   "pygments_lexer": "ipython3",
   "version": "3.13.4"
  }
 },
 "nbformat": 4,
 "nbformat_minor": 5
}
