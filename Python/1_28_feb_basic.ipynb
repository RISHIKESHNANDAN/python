{
 "cells": [
  {
   "cell_type": "markdown",
   "id": "345f1e7f",
   "metadata": {},
   "source": [
    "BASICS\n",
    "\n"
   ]
  },
  {
   "cell_type": "code",
   "execution_count": 1,
   "id": "2fb5f97e",
   "metadata": {},
   "outputs": [
    {
     "data": {
      "text/plain": [
       "10"
      ]
     },
     "execution_count": 1,
     "metadata": {},
     "output_type": "execute_result"
    }
   ],
   "source": [
    "a=10\n",
    "a"
   ]
  },
  {
   "cell_type": "code",
   "execution_count": 2,
   "id": "127771cf",
   "metadata": {},
   "outputs": [
    {
     "data": {
      "text/plain": [
       "int"
      ]
     },
     "execution_count": 2,
     "metadata": {},
     "output_type": "execute_result"
    }
   ],
   "source": [
    "type(a)"
   ]
  },
  {
   "cell_type": "code",
   "execution_count": 3,
   "id": "5526a8c5",
   "metadata": {},
   "outputs": [
    {
     "data": {
      "text/plain": [
       "'Rishi'"
      ]
     },
     "execution_count": 3,
     "metadata": {},
     "output_type": "execute_result"
    }
   ],
   "source": [
    "b='Rishi'\n",
    "b"
   ]
  },
  {
   "cell_type": "code",
   "execution_count": 4,
   "id": "d8b0f04b",
   "metadata": {},
   "outputs": [
    {
     "data": {
      "text/plain": [
       "str"
      ]
     },
     "execution_count": 4,
     "metadata": {},
     "output_type": "execute_result"
    }
   ],
   "source": [
    "type(b)"
   ]
  },
  {
   "cell_type": "code",
   "execution_count": 5,
   "id": "747b2289",
   "metadata": {},
   "outputs": [],
   "source": [
    "a=10\n",
    "b='Rishi'"
   ]
  },
  {
   "cell_type": "code",
   "execution_count": 6,
   "id": "8ee5566e",
   "metadata": {},
   "outputs": [],
   "source": [
    "a,b,c=10,'Rishi',1.3"
   ]
  },
  {
   "cell_type": "code",
   "execution_count": 7,
   "id": "4c68972b",
   "metadata": {},
   "outputs": [
    {
     "data": {
      "text/plain": [
       "(10, 'Rishi', 1.3)"
      ]
     },
     "execution_count": 7,
     "metadata": {},
     "output_type": "execute_result"
    }
   ],
   "source": [
    "a,b,c"
   ]
  },
  {
   "cell_type": "markdown",
   "id": "aaade5a3",
   "metadata": {},
   "source": [
    "----------------------------------------------------"
   ]
  },
  {
   "cell_type": "code",
   "execution_count": null,
   "id": "479a4dc0",
   "metadata": {},
   "outputs": [
    {
     "ename": "TypeError",
     "evalue": "type.__new__() argument 1 must be str, not int",
     "output_type": "error",
     "traceback": [
      "\u001b[31m---------------------------------------------------------------------------\u001b[39m",
      "\u001b[31mTypeError\u001b[39m                                 Traceback (most recent call last)",
      "\u001b[36mCell\u001b[39m\u001b[36m \u001b[39m\u001b[32mIn[8]\u001b[39m\u001b[32m, line 1\u001b[39m\n\u001b[32m----> \u001b[39m\u001b[32m1\u001b[39m \u001b[38;5;28;43mtype\u001b[39;49m\u001b[43m(\u001b[49m\u001b[43ma\u001b[49m\u001b[43m,\u001b[49m\u001b[43mb\u001b[49m\u001b[43m,\u001b[49m\u001b[43mc\u001b[49m\u001b[43m)\u001b[49m\n",
      "\u001b[31mTypeError\u001b[39m: type.__new__() argument 1 must be str, not int"
     ]
    }
   ],
   "source": [
    "type(a,b,c)"
   ]
  },
  {
   "cell_type": "markdown",
   "id": "7cc2c1d0",
   "metadata": {},
   "source": [
    "The TypeError: type.__new__() argument 1 must be str, not int indicates that the first argument passed to the type() function was an integer, while it expects a string.\n",
    "The type() function in Python can be used in two main ways:\n",
    "To get the type of an object: When called with a single argument, type(object), it returns the type of that object.\n",
    "Python\n",
    "\n",
    "    a = 10\n",
    "    print(type(a)) # Output: <class 'int'>\n",
    "To dynamically create a new type (class): When called with three arguments, type(name, bases, dict), it creates a new class.\n",
    "name: The name of the class, which must be a string.\n",
    "bases: A tuple of base classes from which the new class inherits.\n",
    "dict: A dictionary containing the class's namespace (methods, attributes).\n",
    "The error type(a,b,c) suggests an attempt to use the second form of type(), but the variable a (which is intended to be the class name) holds an integer value instead of a string.\n",
    "To resolve this error, ensure that the first argument provided to type() when creating a new class is a string representing the class name.\n",
    "Example of correct usage for creating a type:\n",
    "Python\n",
    "\n",
    "class MyBaseClass:\n",
    "    pass\n",
    "\n",
    "class_name = \"MyNewClass\"\n",
    "bases_tuple = (MyBaseClass,)\n",
    "class_attributes = {\"attribute1\": 100, \"method1\": lambda self: \"Hello\"}\n",
    "\n",
    "MyNewClass = type(class_name, bases_tuple, class_attributes)\n",
    "\n",
    "# You can now use MyNewClass as a regular class\n",
    "instance = MyNewClass()\n",
    "print(instance.attribute1)\n",
    "print(instance.method1())"
   ]
  },
  {
   "cell_type": "code",
   "execution_count": null,
   "id": "34ab49f3",
   "metadata": {},
   "outputs": [
    {
     "data": {
      "text/plain": [
       "2"
      ]
     },
     "execution_count": 14,
     "metadata": {},
     "output_type": "execute_result"
    }
   ],
   "source": [
    "#True =1 and False = 0\n",
    "True + True +False"
   ]
  },
  {
   "cell_type": "markdown",
   "id": "ae537639",
   "metadata": {},
   "source": [
    "-----------------------------------------------------"
   ]
  },
  {
   "cell_type": "markdown",
   "id": "e7cb633f",
   "metadata": {},
   "source": [
    "Complex Number\n"
   ]
  },
  {
   "cell_type": "markdown",
   "id": "fb96f7a7",
   "metadata": {},
   "source": [
    "Python has built-in support for complex numbers. They are represented in the form a + bj, where a is the real part and b is the imaginary part, and j denotes the imaginary unit (similar to i in mathematics). "
   ]
  },
  {
   "cell_type": "markdown",
   "id": "292a67bd",
   "metadata": {},
   "source": [
    "Creating Complex Numbers:"
   ]
  },
  {
   "cell_type": "markdown",
   "id": "7894f702",
   "metadata": {},
   "source": [
    "using the complex() constructor"
   ]
  },
  {
   "cell_type": "code",
   "execution_count": null,
   "id": "24d1d85e",
   "metadata": {},
   "outputs": [],
   "source": [
    "z1 = complex(3, 4)  # Creates the complex number 3 + 4j\n",
    "z2 = complex(5)    # Creates the complex number 5 + 0j\n",
    "z3 = complex('2+7j') # Creates the complex number 2 + 7j from a string"
   ]
  },
  {
   "cell_type": "code",
   "execution_count": null,
   "id": "b70d5cf7",
   "metadata": {},
   "outputs": [
    {
     "name": "stdout",
     "output_type": "stream",
     "text": [
      "(3+4j) (5+0j) (2+7j)\n"
     ]
    }
   ],
   "source": [
    "print(z1,z2,z3)"
   ]
  },
  {
   "cell_type": "markdown",
   "id": "4e605c3a",
   "metadata": {},
   "source": [
    "Using complex literals."
   ]
  },
  {
   "cell_type": "code",
   "execution_count": null,
   "id": "7b7b8c51",
   "metadata": {},
   "outputs": [],
   "source": [
    "x= 34+3j"
   ]
  },
  {
   "cell_type": "code",
   "execution_count": null,
   "id": "1c205617",
   "metadata": {},
   "outputs": [
    {
     "ename": "NameError",
     "evalue": "name 'x' is not defined",
     "output_type": "error",
     "traceback": [
      "\u001b[31m---------------------------------------------------------------------------\u001b[39m",
      "\u001b[31mNameError\u001b[39m                                 Traceback (most recent call last)",
      "\u001b[36mCell\u001b[39m\u001b[36m \u001b[39m\u001b[32mIn[17]\u001b[39m\u001b[32m, line 1\u001b[39m\n\u001b[32m----> \u001b[39m\u001b[32m1\u001b[39m \u001b[38;5;28mprint\u001b[39m(\u001b[43mx\u001b[49m.real)\n\u001b[32m      2\u001b[39m \u001b[38;5;28mprint\u001b[39m(x.imag)\n",
      "\u001b[31mNameError\u001b[39m: name 'x' is not defined"
     ]
    }
   ],
   "source": [
    "print(x.real)\n",
    "print(x.imag)"
   ]
  },
  {
   "cell_type": "markdown",
   "id": "77945c28",
   "metadata": {},
   "source": [
    "---------------------------------------------------"
   ]
  },
  {
   "cell_type": "code",
   "execution_count": null,
   "id": "a33fc3cf",
   "metadata": {},
   "outputs": [
    {
     "ename": "TypeError",
     "evalue": "unsupported operand type(s) for +: 'int' and 'str'",
     "output_type": "error",
     "traceback": [
      "\u001b[31m---------------------------------------------------------------------------\u001b[39m",
      "\u001b[31mTypeError\u001b[39m                                 Traceback (most recent call last)",
      "\u001b[36mCell\u001b[39m\u001b[36m \u001b[39m\u001b[32mIn[29]\u001b[39m\u001b[32m, line 1\u001b[39m\n\u001b[32m----> \u001b[39m\u001b[32m1\u001b[39m \u001b[32;43m1\u001b[39;49m\u001b[43m \u001b[49m\u001b[43m+\u001b[49m\u001b[43m \u001b[49m\u001b[33;43m'\u001b[39;49m\u001b[33;43mrishi\u001b[39;49m\u001b[33;43m'\u001b[39;49m\n",
      "\u001b[31mTypeError\u001b[39m: unsupported operand type(s) for +: 'int' and 'str'"
     ]
    }
   ],
   "source": [
    "1 + 'rishi'"
   ]
  },
  {
   "cell_type": "markdown",
   "id": "dbadd2e5",
   "metadata": {},
   "source": [
    "for that we use type casting where we change or convert the data type of an data"
   ]
  },
  {
   "cell_type": "code",
   "execution_count": null,
   "id": "49600515",
   "metadata": {},
   "outputs": [
    {
     "data": {
      "text/plain": [
       "'1rishi'"
      ]
     },
     "execution_count": 30,
     "metadata": {},
     "output_type": "execute_result"
    }
   ],
   "source": [
    "str(1)+'rishi'"
   ]
  },
  {
   "cell_type": "code",
   "execution_count": null,
   "id": "c3e8d858",
   "metadata": {},
   "outputs": [
    {
     "data": {
      "text/plain": [
       "'rishirishirishi'"
      ]
     },
     "execution_count": 26,
     "metadata": {},
     "output_type": "execute_result"
    }
   ],
   "source": [
    "'rishi'*3"
   ]
  },
  {
   "cell_type": "code",
   "execution_count": null,
   "id": "4debe3e9",
   "metadata": {},
   "outputs": [
    {
     "data": {
      "text/plain": [
       "'rishikesh  nandan'"
      ]
     },
     "execution_count": 28,
     "metadata": {},
     "output_type": "execute_result"
    }
   ],
   "source": [
    "\"rishikesh \"+ \" nandan\""
   ]
  },
  {
   "cell_type": "markdown",
   "id": "62f9580b",
   "metadata": {},
   "source": [
    "------------------------------------------------------"
   ]
  },
  {
   "cell_type": "code",
   "execution_count": 1,
   "id": "087e1280",
   "metadata": {},
   "outputs": [
    {
     "data": {
      "text/plain": [
       "10"
      ]
     },
     "execution_count": 1,
     "metadata": {},
     "output_type": "execute_result"
    }
   ],
   "source": [
    "a= 10\n",
    "a"
   ]
  },
  {
   "cell_type": "code",
   "execution_count": null,
   "id": "f4b20ad3",
   "metadata": {},
   "outputs": [],
   "source": [
    "b=input()"
   ]
  },
  {
   "cell_type": "code",
   "execution_count": null,
   "id": "a12b4254",
   "metadata": {},
   "outputs": [],
   "source": []
  }
 ],
 "metadata": {
  "kernelspec": {
   "display_name": "venv",
   "language": "python",
   "name": "python3"
  },
  "language_info": {
   "codemirror_mode": {
    "name": "ipython",
    "version": 3
   },
   "file_extension": ".py",
   "mimetype": "text/x-python",
   "name": "python",
   "nbconvert_exporter": "python",
   "pygments_lexer": "ipython3",
   "version": "3.13.4"
  }
 },
 "nbformat": 4,
 "nbformat_minor": 5
}
