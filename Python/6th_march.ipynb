{
 "cells": [
  {
   "cell_type": "markdown",
   "id": "6ada37c8",
   "metadata": {},
   "source": [
    "if statement\n"
   ]
  },
  {
   "cell_type": "code",
   "execution_count": 5,
   "id": "4c378cbb",
   "metadata": {},
   "outputs": [
    {
     "name": "stdout",
     "output_type": "stream",
     "text": [
      "Both are correct\n"
     ]
    }
   ],
   "source": [
    "a= 10\n",
    "b=35\n",
    "if(a==10 and b==35):\n",
    "    print(\"Both are correct\")\n",
    "elif(a==10 or b==35):\n",
    "    print(\"One is correct\")\n",
    "else:\n",
    "    print(\"None\")"
   ]
  },
  {
   "cell_type": "code",
   "execution_count": 6,
   "id": "2aa1f4c0",
   "metadata": {},
   "outputs": [
    {
     "name": "stdout",
     "output_type": "stream",
     "text": [
      "One is correct\n"
     ]
    }
   ],
   "source": [
    "a= 11\n",
    "b=35\n",
    "if(a==10 and b==35):\n",
    "    print(\"Both are correct\")\n",
    "elif(a==10 or b==35):\n",
    "    print(\"One is correct\")\n",
    "else:\n",
    "    print(\"None\")"
   ]
  },
  {
   "cell_type": "code",
   "execution_count": 7,
   "id": "0ad4b53e",
   "metadata": {},
   "outputs": [
    {
     "name": "stdout",
     "output_type": "stream",
     "text": [
      "None\n"
     ]
    }
   ],
   "source": [
    "a= 11\n",
    "b=38\n",
    "if(a==10 and b==35):\n",
    "    print(\"Both are correct\")\n",
    "elif(a==10 or b==35):\n",
    "    print(\"One is correct\")\n",
    "else:\n",
    "    print(\"None\")"
   ]
  },
  {
   "cell_type": "code",
   "execution_count": 9,
   "id": "77325c0b",
   "metadata": {},
   "outputs": [
    {
     "name": "stdout",
     "output_type": "stream",
     "text": [
      "this is it\n",
      "this is it\n",
      "this is it\n",
      "this is it\n",
      "this is it\n",
      "this is it\n",
      "this is it\n",
      "this is it\n",
      "this is it\n"
     ]
    }
   ],
   "source": [
    "a=10\n",
    "b=16\n",
    "count=1\n",
    "while a<b:\n",
    "  print(\"this is it\")\n",
    "  count=count+1\n",
    "  if count == 10:\n",
    "    break"
   ]
  },
  {
   "cell_type": "code",
   "execution_count": null,
   "id": "d2a1714d",
   "metadata": {},
   "outputs": [],
   "source": []
  }
 ],
 "metadata": {
  "kernelspec": {
   "display_name": "venv",
   "language": "python",
   "name": "python3"
  },
  "language_info": {
   "codemirror_mode": {
    "name": "ipython",
    "version": 3
   },
   "file_extension": ".py",
   "mimetype": "text/x-python",
   "name": "python",
   "nbconvert_exporter": "python",
   "pygments_lexer": "ipython3",
   "version": "3.13.4"
  }
 },
 "nbformat": 4,
 "nbformat_minor": 5
}
