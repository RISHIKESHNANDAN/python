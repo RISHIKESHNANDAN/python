{
 "cells": [
  {
   "cell_type": "markdown",
   "id": "8a36580c",
   "metadata": {},
   "source": [
    "List---"
   ]
  },
  {
   "cell_type": "code",
   "execution_count": 1,
   "id": "2143ef5d",
   "metadata": {},
   "outputs": [
    {
     "data": {
      "text/plain": [
       "['red', 'ram', 'sivji']"
      ]
     },
     "execution_count": 1,
     "metadata": {},
     "output_type": "execute_result"
    }
   ],
   "source": [
    "Iteams =[\"red\",\"ram\",\"sivji\"]\n",
    "Iteams"
   ]
  },
  {
   "cell_type": "code",
   "execution_count": 3,
   "id": "b1372053",
   "metadata": {},
   "outputs": [
    {
     "name": "stdout",
     "output_type": "stream",
     "text": [
      "['red', 'ram', 'sivji']\n"
     ]
    }
   ],
   "source": [
    "print(Iteams)"
   ]
  },
  {
   "cell_type": "code",
   "execution_count": 4,
   "id": "0f636e5a",
   "metadata": {},
   "outputs": [
    {
     "data": {
      "text/plain": [
       "list"
      ]
     },
     "execution_count": 4,
     "metadata": {},
     "output_type": "execute_result"
    }
   ],
   "source": [
    "type(Iteams)"
   ]
  },
  {
   "cell_type": "code",
   "execution_count": 5,
   "id": "d9dd5bfa",
   "metadata": {},
   "outputs": [
    {
     "data": {
      "text/plain": [
       "'red'"
      ]
     },
     "execution_count": 5,
     "metadata": {},
     "output_type": "execute_result"
    }
   ],
   "source": [
    "Iteams[0]"
   ]
  },
  {
   "cell_type": "code",
   "execution_count": 6,
   "id": "44ada2dd",
   "metadata": {},
   "outputs": [
    {
     "data": {
      "text/plain": [
       "'e'"
      ]
     },
     "execution_count": 6,
     "metadata": {},
     "output_type": "execute_result"
    }
   ],
   "source": [
    "Iteams[0][1]"
   ]
  },
  {
   "cell_type": "code",
   "execution_count": 8,
   "id": "3d43d8c6",
   "metadata": {},
   "outputs": [
    {
     "ename": "ValueError",
     "evalue": "invalid literal for int() with base 10: 'red'",
     "output_type": "error",
     "traceback": [
      "\u001b[31m---------------------------------------------------------------------------\u001b[39m",
      "\u001b[31mValueError\u001b[39m                                Traceback (most recent call last)",
      "\u001b[36mCell\u001b[39m\u001b[36m \u001b[39m\u001b[32mIn[8]\u001b[39m\u001b[32m, line 1\u001b[39m\n\u001b[32m----> \u001b[39m\u001b[32m1\u001b[39m \u001b[38;5;28;43mint\u001b[39;49m\u001b[43m(\u001b[49m\u001b[43mIteams\u001b[49m\u001b[43m[\u001b[49m\u001b[32;43m0\u001b[39;49m\u001b[43m]\u001b[49m\u001b[43m)\u001b[49m\n",
      "\u001b[31mValueError\u001b[39m: invalid literal for int() with base 10: 'red'"
     ]
    }
   ],
   "source": [
    "int(Iteams[0])"
   ]
  },
  {
   "cell_type": "markdown",
   "id": "6c25cdff",
   "metadata": {},
   "source": [
    "Slicing---stop index not included"
   ]
  },
  {
   "cell_type": "code",
   "execution_count": 9,
   "id": "457a6775",
   "metadata": {},
   "outputs": [
    {
     "data": {
      "text/plain": [
       "['red', 'ram', 'sivji']"
      ]
     },
     "execution_count": 9,
     "metadata": {},
     "output_type": "execute_result"
    }
   ],
   "source": [
    "Iteams[:4]"
   ]
  },
  {
   "cell_type": "code",
   "execution_count": 10,
   "id": "61a92722",
   "metadata": {},
   "outputs": [
    {
     "data": {
      "text/plain": [
       "'sivji'"
      ]
     },
     "execution_count": 10,
     "metadata": {},
     "output_type": "execute_result"
    }
   ],
   "source": [
    "Iteams[2]"
   ]
  },
  {
   "cell_type": "code",
   "execution_count": 11,
   "id": "4b5b0e98",
   "metadata": {},
   "outputs": [
    {
     "data": {
      "text/plain": [
       "['sivji', 'red']"
      ]
     },
     "execution_count": 11,
     "metadata": {},
     "output_type": "execute_result"
    }
   ],
   "source": [
    "Iteams[::-2]"
   ]
  },
  {
   "cell_type": "code",
   "execution_count": 13,
   "id": "1e7f7331",
   "metadata": {},
   "outputs": [
    {
     "data": {
      "text/plain": [
       "['red', 'ram', 'sivji']"
      ]
     },
     "execution_count": 13,
     "metadata": {},
     "output_type": "execute_result"
    }
   ],
   "source": [
    "Iteams"
   ]
  },
  {
   "cell_type": "code",
   "execution_count": 12,
   "id": "d7b7d41e",
   "metadata": {},
   "outputs": [
    {
     "data": {
      "text/plain": [
       "['sivji']"
      ]
     },
     "execution_count": 12,
     "metadata": {},
     "output_type": "execute_result"
    }
   ],
   "source": [
    "Iteams[-1::]"
   ]
  },
  {
   "cell_type": "code",
   "execution_count": 14,
   "id": "93578367",
   "metadata": {},
   "outputs": [
    {
     "data": {
      "text/plain": [
       "['sivji']"
      ]
     },
     "execution_count": 14,
     "metadata": {},
     "output_type": "execute_result"
    }
   ],
   "source": [
    "Iteams[-1:]"
   ]
  },
  {
   "cell_type": "code",
   "execution_count": 18,
   "id": "a1e4355e",
   "metadata": {},
   "outputs": [
    {
     "data": {
      "text/plain": [
       "['red', 'sivji']"
      ]
     },
     "execution_count": 18,
     "metadata": {},
     "output_type": "execute_result"
    }
   ],
   "source": [
    "Iteams[0::2]"
   ]
  },
  {
   "cell_type": "code",
   "execution_count": null,
   "id": "afd77bcc",
   "metadata": {},
   "outputs": [
    {
     "data": {
      "text/plain": [
       "['red']"
      ]
     },
     "execution_count": 21,
     "metadata": {},
     "output_type": "execute_result"
    }
   ],
   "source": [
    "Iteams[:-1:2]  #--------------------------logical Error---------------------------------------------"
   ]
  },
  {
   "cell_type": "code",
   "execution_count": 22,
   "id": "d3123ad8",
   "metadata": {},
   "outputs": [],
   "source": [
    "Iteams.remove('red')"
   ]
  },
  {
   "cell_type": "code",
   "execution_count": 23,
   "id": "612f5d1c",
   "metadata": {},
   "outputs": [
    {
     "data": {
      "text/plain": [
       "['ram', 'sivji']"
      ]
     },
     "execution_count": 23,
     "metadata": {},
     "output_type": "execute_result"
    }
   ],
   "source": [
    "Iteams"
   ]
  },
  {
   "cell_type": "code",
   "execution_count": 24,
   "id": "b8cbc64f",
   "metadata": {},
   "outputs": [],
   "source": [
    "Iteams.append('brahmaji')"
   ]
  },
  {
   "cell_type": "code",
   "execution_count": 29,
   "id": "299c7625",
   "metadata": {},
   "outputs": [
    {
     "data": {
      "text/plain": [
       "['ram', 'ram', 'brahmaji']"
      ]
     },
     "execution_count": 29,
     "metadata": {},
     "output_type": "execute_result"
    }
   ],
   "source": [
    "Iteams"
   ]
  },
  {
   "cell_type": "code",
   "execution_count": 32,
   "id": "e3ea7f3a",
   "metadata": {},
   "outputs": [
    {
     "data": {
      "text/plain": [
       "['shivji', 'ramji', 'brahmaji']"
      ]
     },
     "execution_count": 32,
     "metadata": {},
     "output_type": "execute_result"
    }
   ],
   "source": [
    "Iteams[1]=\"ramji\"\n",
    "Iteams"
   ]
  },
  {
   "cell_type": "code",
   "execution_count": 33,
   "id": "285fddf0",
   "metadata": {},
   "outputs": [
    {
     "data": {
      "text/plain": [
       "['shivji', 'ramji', 'brahmaji']"
      ]
     },
     "execution_count": 33,
     "metadata": {},
     "output_type": "execute_result"
    }
   ],
   "source": [
    "Iteams[0]=\"shivji\"\n",
    "Iteams"
   ]
  },
  {
   "cell_type": "code",
   "execution_count": 36,
   "id": "45b6ba01",
   "metadata": {},
   "outputs": [
    {
     "data": {
      "text/plain": [
       "['shivji', 'sitaji', 'sitaji', 'sitaji', 'ramji', 'brahmaji']"
      ]
     },
     "execution_count": 36,
     "metadata": {},
     "output_type": "execute_result"
    }
   ],
   "source": [
    "Iteams.insert(1,\"sitaji\")\n",
    "Iteams"
   ]
  },
  {
   "cell_type": "code",
   "execution_count": 40,
   "id": "0d2001d6",
   "metadata": {},
   "outputs": [
    {
     "data": {
      "text/plain": [
       "['shivji', 'sitaji', 'ramji', 'brahmaji']"
      ]
     },
     "execution_count": 40,
     "metadata": {},
     "output_type": "execute_result"
    }
   ],
   "source": [
    "Iteams[1:11]=[\"sitaji\"]\n",
    "Iteams"
   ]
  },
  {
   "cell_type": "markdown",
   "id": "fe0b8091",
   "metadata": {},
   "source": [
    "---------------------------sort()-------------------------------------------------------"
   ]
  },
  {
   "cell_type": "code",
   "execution_count": 42,
   "id": "4a93d85c",
   "metadata": {},
   "outputs": [
    {
     "data": {
      "text/plain": [
       "['brahmaji', 'ramji', 'shivji', 'sitaji']"
      ]
     },
     "execution_count": 42,
     "metadata": {},
     "output_type": "execute_result"
    }
   ],
   "source": [
    "Iteams.sort()\n",
    "Iteams"
   ]
  },
  {
   "cell_type": "code",
   "execution_count": 43,
   "id": "1795eb0c",
   "metadata": {},
   "outputs": [
    {
     "data": {
      "text/plain": [
       "[23, 45, 567, 1]"
      ]
     },
     "execution_count": 43,
     "metadata": {},
     "output_type": "execute_result"
    }
   ],
   "source": [
    "exp=[23,45,567,1]\n",
    "exp"
   ]
  },
  {
   "cell_type": "code",
   "execution_count": 45,
   "id": "67a3bb06",
   "metadata": {},
   "outputs": [
    {
     "data": {
      "text/plain": [
       "[1, 23, 45, 567]"
      ]
     },
     "execution_count": 45,
     "metadata": {},
     "output_type": "execute_result"
    }
   ],
   "source": [
    "exp.sort()\n",
    "exp"
   ]
  },
  {
   "cell_type": "markdown",
   "id": "4f118e7d",
   "metadata": {},
   "source": [
    "---------------------------------------------------------len()---------------------------------------------------------"
   ]
  },
  {
   "cell_type": "code",
   "execution_count": 46,
   "id": "87d5ec2c",
   "metadata": {},
   "outputs": [
    {
     "data": {
      "text/plain": [
       "4"
      ]
     },
     "execution_count": 46,
     "metadata": {},
     "output_type": "execute_result"
    }
   ],
   "source": [
    "len(Iteams)"
   ]
  },
  {
   "cell_type": "code",
   "execution_count": 47,
   "id": "f04427ed",
   "metadata": {},
   "outputs": [
    {
     "data": {
      "text/plain": [
       "4"
      ]
     },
     "execution_count": 47,
     "metadata": {},
     "output_type": "execute_result"
    }
   ],
   "source": [
    "len(exp)"
   ]
  },
  {
   "cell_type": "code",
   "execution_count": 50,
   "id": "02ffe6d5",
   "metadata": {},
   "outputs": [
    {
     "data": {
      "text/plain": [
       "['__add__',\n",
       " '__class__',\n",
       " '__class_getitem__',\n",
       " '__contains__',\n",
       " '__delattr__',\n",
       " '__delitem__',\n",
       " '__dir__',\n",
       " '__doc__',\n",
       " '__eq__',\n",
       " '__format__',\n",
       " '__ge__',\n",
       " '__getattribute__',\n",
       " '__getitem__',\n",
       " '__getstate__',\n",
       " '__gt__',\n",
       " '__hash__',\n",
       " '__iadd__',\n",
       " '__imul__',\n",
       " '__init__',\n",
       " '__init_subclass__',\n",
       " '__iter__',\n",
       " '__le__',\n",
       " '__len__',\n",
       " '__lt__',\n",
       " '__mul__',\n",
       " '__ne__',\n",
       " '__new__',\n",
       " '__reduce__',\n",
       " '__reduce_ex__',\n",
       " '__repr__',\n",
       " '__reversed__',\n",
       " '__rmul__',\n",
       " '__setattr__',\n",
       " '__setitem__',\n",
       " '__sizeof__',\n",
       " '__str__',\n",
       " '__subclasshook__',\n",
       " 'append',\n",
       " 'clear',\n",
       " 'copy',\n",
       " 'count',\n",
       " 'extend',\n",
       " 'index',\n",
       " 'insert',\n",
       " 'pop',\n",
       " 'remove',\n",
       " 'reverse',\n",
       " 'sort']"
      ]
     },
     "execution_count": 50,
     "metadata": {},
     "output_type": "execute_result"
    }
   ],
   "source": [
    "dir(Iteams)"
   ]
  },
  {
   "cell_type": "code",
   "execution_count": null,
   "id": "76829514",
   "metadata": {},
   "outputs": [],
   "source": []
  }
 ],
 "metadata": {
  "kernelspec": {
   "display_name": "venv",
   "language": "python",
   "name": "python3"
  },
  "language_info": {
   "codemirror_mode": {
    "name": "ipython",
    "version": 3
   },
   "file_extension": ".py",
   "mimetype": "text/x-python",
   "name": "python",
   "nbconvert_exporter": "python",
   "pygments_lexer": "ipython3",
   "version": "3.13.4"
  }
 },
 "nbformat": 4,
 "nbformat_minor": 5
}
